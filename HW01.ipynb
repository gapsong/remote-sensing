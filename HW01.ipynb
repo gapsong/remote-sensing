{
 "cells": [
  {
   "cell_type": "markdown",
   "metadata": {},
   "source": [
    "# Homework 01 \n",
    "\n",
    "This Jupyter Notebook file is a template that we provide for the homework.\n",
    "You _must_ use this template and follow the instructions.\n",
    "To unify the submission, we require you to store specific intermediate results into _\"submission-variables\"_.\n",
    "These values are printed at the _end_ of the jupyter notebook and will be (partially) used to grade your assignment.\n",
    "Please ensure that these variables have the correct values and aren't overwritten by following code-cells."
   ]
  },
  {
   "cell_type": "code",
   "execution_count": 1,
   "metadata": {},
   "outputs": [],
   "source": [
    "# used for submission variables\n",
    "from copy import deepcopy"
   ]
  },
  {
   "cell_type": "markdown",
   "metadata": {},
   "source": [
    "## Sentinel-2 tile download\n",
    "\n",
    "Download a Sentinel-2 tile from [SciHub Copernicus](https://scihub.copernicus.eu/dhus/#/home) with the following requirements:\n",
    "- With the sensing date _after_ 01.03.2022\n",
    "- With the product-type `S2MSI2A`\n",
    "- _At least_ a cloud cover percentage of 1% but _no more_ than 20%\n",
    "- Not the tile with the id: \n",
    "    - `6e5ad1c9-fc0e-4b93-9b5c-d0d401673206`\n",
    "\n",
    "_Write_ down (inside of a markdown cell) a city that is part of the downloaded Sentinel-2 tile!"
   ]
  },
  {
   "cell_type": "markdown",
   "metadata": {},
   "source": [
    "To ensure that no secrets are shared, please use the following code template.\n",
    "You can create a [TOML](https://en.wikipedia.org/wiki/TOML) file called `.secrets.toml` with the contents:\n",
    "\n",
    "```toml\n",
    "\n",
    "scihub_copernicus_user = \"<YOUR_PWD>\"\n",
    "scihub_copernicus_pwd = \"<YOUR_PWD>\"\n",
    "```\n",
    "\n",
    "Or you can simply remove your username/password _after_ executing the notebook and _before_ submitting it."
   ]
  },
  {
   "cell_type": "code",
   "execution_count": 2,
   "metadata": {},
   "outputs": [],
   "source": [
    "# KEEP\n",
    "from dynaconf import Dynaconf\n",
    "\n",
    "settings = Dynaconf(\n",
    "    envvar_prefix=\"IP4RS\",\n",
    "    settings_files=[\"settings.toml\", \".secrets.toml\"],\n",
    ")\n",
    "\n",
    "SENTINEL_API_URL = \"https://scihub.copernicus.eu/dhus\"\n",
    "YOUR_USERNAME = \"kton\"\n",
    "YOUR_PWD = \"12345678\"\n",
    "user = settings.get(\"scihub_copernicus_user\", default=YOUR_USERNAME)\n",
    "pwd = settings.get(\"scihub_copernicus_pwd\", default=YOUR_PWD)\n",
    "\n",
    "assert user != r\"\"\n",
    "assert pwd != r\"\"\n",
    "###"
   ]
  },
  {
   "cell_type": "code",
   "execution_count": 4,
   "metadata": {},
   "outputs": [],
   "source": [
    "# imports\n",
    "import numpy as np\n",
    "import geopandas\n",
    "from pathlib import Path\n",
    "import osmnx\n",
    "\n",
    "\n",
    "from sentinelsat import SentinelAPI\n",
    "from datetime import date\n",
    "from shapely.geometry import Point\n",
    "import rasterio\n",
    "import zipfile\n",
    "\n",
    "from enum import Enum\n",
    "from typing import List, Sequence\n",
    "import matplotlib.pyplot as plt\n",
    "\n",
    "import rasterio.mask\n"
   ]
  },
  {
   "cell_type": "code",
   "execution_count": 5,
   "metadata": {},
   "outputs": [],
   "source": [
    "# Get lats and longs\n",
    "latitude = 52.112230\n",
    "longitude = 13.327135\n",
    "\n"
   ]
  },
  {
   "cell_type": "code",
   "execution_count": 6,
   "metadata": {
    "scrolled": true
   },
   "outputs": [
    {
     "data": {
      "text/plain": [
       "0    POINT (13.32714 52.11223)\n",
       "dtype: geometry"
      ]
     },
     "execution_count": 6,
     "metadata": {},
     "output_type": "execute_result"
    }
   ],
   "source": [
    "series = geopandas.GeoSeries([Point(longitude, latitude)], crs=\"EPSG:4326\")\n",
    "series\n",
    "\n"
   ]
  },
  {
   "cell_type": "code",
   "execution_count": 7,
   "metadata": {},
   "outputs": [],
   "source": [
    "api_sent = SentinelAPI(user, pwd, SENTINEL_API_URL)\n",
    "# api_sent.query?"
   ]
  },
  {
   "cell_type": "code",
   "execution_count": 8,
   "metadata": {},
   "outputs": [
    {
     "data": {
      "text/plain": [
       "0    POINT (13.327135 52.11223)\n",
       "dtype: object"
      ]
     },
     "execution_count": 8,
     "metadata": {},
     "output_type": "execute_result"
    }
   ],
   "source": [
    "series.to_wkt()\n"
   ]
  },
  {
   "cell_type": "code",
   "execution_count": 9,
   "metadata": {},
   "outputs": [
    {
     "data": {
      "text/plain": [
       "'POINT (13.327135 52.11223)'"
      ]
     },
     "execution_count": 9,
     "metadata": {},
     "output_type": "execute_result"
    }
   ],
   "source": [
    "poi = series.to_wkt()[0]\n",
    "poi\n",
    "\n"
   ]
  },
  {
   "cell_type": "code",
   "execution_count": 10,
   "metadata": {},
   "outputs": [
    {
     "data": {
      "text/html": [
       "<div>\n",
       "<style scoped>\n",
       "    .dataframe tbody tr th:only-of-type {\n",
       "        vertical-align: middle;\n",
       "    }\n",
       "\n",
       "    .dataframe tbody tr th {\n",
       "        vertical-align: top;\n",
       "    }\n",
       "\n",
       "    .dataframe thead th {\n",
       "        text-align: right;\n",
       "    }\n",
       "</style>\n",
       "<table border=\"1\" class=\"dataframe\">\n",
       "  <thead>\n",
       "    <tr style=\"text-align: right;\">\n",
       "      <th></th>\n",
       "      <th>title</th>\n",
       "      <th>link</th>\n",
       "      <th>link_alternative</th>\n",
       "      <th>link_icon</th>\n",
       "      <th>summary</th>\n",
       "      <th>ondemand</th>\n",
       "      <th>generationdate</th>\n",
       "      <th>beginposition</th>\n",
       "      <th>endposition</th>\n",
       "      <th>ingestiondate</th>\n",
       "      <th>...</th>\n",
       "      <th>producttype</th>\n",
       "      <th>platformidentifier</th>\n",
       "      <th>orbitdirection</th>\n",
       "      <th>platformserialidentifier</th>\n",
       "      <th>processinglevel</th>\n",
       "      <th>datastripidentifier</th>\n",
       "      <th>granuleidentifier</th>\n",
       "      <th>identifier</th>\n",
       "      <th>uuid</th>\n",
       "      <th>geometry</th>\n",
       "    </tr>\n",
       "  </thead>\n",
       "  <tbody>\n",
       "    <tr>\n",
       "      <th>0de0c49b-72d0-4ff9-9605-79c51399d676</th>\n",
       "      <td>S2B_MSIL2A_20220423T100549_N0400_R022_T33UUT_2...</td>\n",
       "      <td>https://scihub.copernicus.eu/dhus/odata/v1/Pro...</td>\n",
       "      <td>https://scihub.copernicus.eu/dhus/odata/v1/Pro...</td>\n",
       "      <td>https://scihub.copernicus.eu/dhus/odata/v1/Pro...</td>\n",
       "      <td>Date: 2022-04-23T10:05:49.024Z, Instrument: MS...</td>\n",
       "      <td>false</td>\n",
       "      <td>2022-04-23 13:43:29</td>\n",
       "      <td>2022-04-23 10:05:49.024</td>\n",
       "      <td>2022-04-23 10:05:49.024</td>\n",
       "      <td>2022-04-23 17:44:37.025</td>\n",
       "      <td>...</td>\n",
       "      <td>S2MSI2A</td>\n",
       "      <td>2017-013A</td>\n",
       "      <td>DESCENDING</td>\n",
       "      <td>Sentinel-2B</td>\n",
       "      <td>Level-2A</td>\n",
       "      <td>S2B_OPER_MSI_L2A_DS_VGS2_20220423T134329_S2022...</td>\n",
       "      <td>S2B_OPER_MSI_L2A_TL_VGS2_20220423T134329_A0267...</td>\n",
       "      <td>S2B_MSIL2A_20220423T100549_N0400_R022_T33UUT_2...</td>\n",
       "      <td>0de0c49b-72d0-4ff9-9605-79c51399d676</td>\n",
       "      <td>MULTIPOLYGON (((12.12921 51.32805, 13.70458 51...</td>\n",
       "    </tr>\n",
       "  </tbody>\n",
       "</table>\n",
       "<p>1 rows × 41 columns</p>\n",
       "</div>"
      ],
      "text/plain": [
       "                                                                                  title  \\\n",
       "0de0c49b-72d0-4ff9-9605-79c51399d676  S2B_MSIL2A_20220423T100549_N0400_R022_T33UUT_2...   \n",
       "\n",
       "                                                                                   link  \\\n",
       "0de0c49b-72d0-4ff9-9605-79c51399d676  https://scihub.copernicus.eu/dhus/odata/v1/Pro...   \n",
       "\n",
       "                                                                       link_alternative  \\\n",
       "0de0c49b-72d0-4ff9-9605-79c51399d676  https://scihub.copernicus.eu/dhus/odata/v1/Pro...   \n",
       "\n",
       "                                                                              link_icon  \\\n",
       "0de0c49b-72d0-4ff9-9605-79c51399d676  https://scihub.copernicus.eu/dhus/odata/v1/Pro...   \n",
       "\n",
       "                                                                                summary  \\\n",
       "0de0c49b-72d0-4ff9-9605-79c51399d676  Date: 2022-04-23T10:05:49.024Z, Instrument: MS...   \n",
       "\n",
       "                                     ondemand      generationdate  \\\n",
       "0de0c49b-72d0-4ff9-9605-79c51399d676    false 2022-04-23 13:43:29   \n",
       "\n",
       "                                               beginposition  \\\n",
       "0de0c49b-72d0-4ff9-9605-79c51399d676 2022-04-23 10:05:49.024   \n",
       "\n",
       "                                                 endposition  \\\n",
       "0de0c49b-72d0-4ff9-9605-79c51399d676 2022-04-23 10:05:49.024   \n",
       "\n",
       "                                               ingestiondate  ...  \\\n",
       "0de0c49b-72d0-4ff9-9605-79c51399d676 2022-04-23 17:44:37.025  ...   \n",
       "\n",
       "                                      producttype  platformidentifier  \\\n",
       "0de0c49b-72d0-4ff9-9605-79c51399d676      S2MSI2A           2017-013A   \n",
       "\n",
       "                                      orbitdirection  \\\n",
       "0de0c49b-72d0-4ff9-9605-79c51399d676      DESCENDING   \n",
       "\n",
       "                                      platformserialidentifier  \\\n",
       "0de0c49b-72d0-4ff9-9605-79c51399d676               Sentinel-2B   \n",
       "\n",
       "                                      processinglevel  \\\n",
       "0de0c49b-72d0-4ff9-9605-79c51399d676         Level-2A   \n",
       "\n",
       "                                                                    datastripidentifier  \\\n",
       "0de0c49b-72d0-4ff9-9605-79c51399d676  S2B_OPER_MSI_L2A_DS_VGS2_20220423T134329_S2022...   \n",
       "\n",
       "                                                                      granuleidentifier  \\\n",
       "0de0c49b-72d0-4ff9-9605-79c51399d676  S2B_OPER_MSI_L2A_TL_VGS2_20220423T134329_A0267...   \n",
       "\n",
       "                                                                             identifier  \\\n",
       "0de0c49b-72d0-4ff9-9605-79c51399d676  S2B_MSIL2A_20220423T100549_N0400_R022_T33UUT_2...   \n",
       "\n",
       "                                                                      uuid  \\\n",
       "0de0c49b-72d0-4ff9-9605-79c51399d676  0de0c49b-72d0-4ff9-9605-79c51399d676   \n",
       "\n",
       "                                                                               geometry  \n",
       "0de0c49b-72d0-4ff9-9605-79c51399d676  MULTIPOLYGON (((12.12921 51.32805, 13.70458 51...  \n",
       "\n",
       "[1 rows x 41 columns]"
      ]
     },
     "execution_count": 10,
     "metadata": {},
     "output_type": "execute_result"
    }
   ],
   "source": [
    "# Set params\n",
    "start_date = date(year=2022, month=3, day=1)\n",
    "end_date = date(year=2022, month=4, day=30)\n",
    "satellite = \"Sentinel-2\"\n",
    "producttype = \"S2MSI2A\"\n",
    "\n",
    "products = api_sent.query(\n",
    "    poi,\n",
    "    date=(start_date, end_date),\n",
    "    platformname=satellite,\n",
    "    producttype=producttype,\n",
    "    cloudcoverpercentage=(1, 20),\n",
    ")\n",
    "\n",
    "# convert to GeoPandas GeoDataFrame\n",
    "products_gdf = api_sent.to_geodataframe(products)\n",
    "assert not products_gdf.empty\n",
    "products_gdf.head(1)\n",
    "# If you get an internal-service error, simply try again\n",
    "\n",
    "\n"
   ]
  },
  {
   "cell_type": "code",
   "execution_count": 11,
   "metadata": {},
   "outputs": [],
   "source": [
    "# The tile-id should be generated here\n",
    "# for example:\n",
    "tile_id = \"0de0c49b-72d0-4ff9-9605-79c51399d676\"\n",
    "\n"
   ]
  },
  {
   "cell_type": "code",
   "execution_count": 12,
   "metadata": {
    "scrolled": true
   },
   "outputs": [
    {
     "name": "stdout",
     "output_type": "stream",
     "text": [
      "S2B_MSIL2A_20220324T100649_N0400_R022_T32UQC_20220324T132305\n"
     ]
    }
   ],
   "source": [
    "# sort and select the first row\n",
    "product = products_gdf.sort_values(\n",
    "    [\"cloudcoverpercentage\", \"ingestiondate\"], ascending=[True, True]\n",
    ").head(1)\n",
    "product\n",
    "print(product[\"title\"][0])"
   ]
  },
  {
   "cell_type": "code",
   "execution_count": 13,
   "metadata": {},
   "outputs": [],
   "source": [
    "# ensuring that the tile is the one we are also providing via a direct\n",
    "# download link\n",
    "assert product[\"title\"][0] == \"S2B_MSIL2A_20220324T100649_N0400_R022_T32UQC_20220324T132305\""
   ]
  },
  {
   "cell_type": "code",
   "execution_count": 14,
   "metadata": {},
   "outputs": [
    {
     "data": {
      "text/html": [
       "<div style=\"width:100%;\"><div style=\"position:relative;width:100%;height:0;padding-bottom:60%;\"><span style=\"color:#565656\">Make this Notebook Trusted to load map: File -> Trust Notebook</span><iframe srcdoc=\"&lt;!DOCTYPE html&gt;\n",
       "&lt;head&gt;    \n",
       "    &lt;meta http-equiv=&quot;content-type&quot; content=&quot;text/html; charset=UTF-8&quot; /&gt;\n",
       "    \n",
       "        &lt;script&gt;\n",
       "            L_NO_TOUCH = false;\n",
       "            L_DISABLE_3D = false;\n",
       "        &lt;/script&gt;\n",
       "    \n",
       "    &lt;style&gt;html, body {width: 100%;height: 100%;margin: 0;padding: 0;}&lt;/style&gt;\n",
       "    &lt;style&gt;#map {position:absolute;top:0;bottom:0;right:0;left:0;}&lt;/style&gt;\n",
       "    &lt;script src=&quot;https://cdn.jsdelivr.net/npm/leaflet@1.6.0/dist/leaflet.js&quot;&gt;&lt;/script&gt;\n",
       "    &lt;script src=&quot;https://code.jquery.com/jquery-1.12.4.min.js&quot;&gt;&lt;/script&gt;\n",
       "    &lt;script src=&quot;https://maxcdn.bootstrapcdn.com/bootstrap/3.2.0/js/bootstrap.min.js&quot;&gt;&lt;/script&gt;\n",
       "    &lt;script src=&quot;https://cdnjs.cloudflare.com/ajax/libs/Leaflet.awesome-markers/2.0.2/leaflet.awesome-markers.js&quot;&gt;&lt;/script&gt;\n",
       "    &lt;link rel=&quot;stylesheet&quot; href=&quot;https://cdn.jsdelivr.net/npm/leaflet@1.6.0/dist/leaflet.css&quot;/&gt;\n",
       "    &lt;link rel=&quot;stylesheet&quot; href=&quot;https://maxcdn.bootstrapcdn.com/bootstrap/3.2.0/css/bootstrap.min.css&quot;/&gt;\n",
       "    &lt;link rel=&quot;stylesheet&quot; href=&quot;https://maxcdn.bootstrapcdn.com/bootstrap/3.2.0/css/bootstrap-theme.min.css&quot;/&gt;\n",
       "    &lt;link rel=&quot;stylesheet&quot; href=&quot;https://maxcdn.bootstrapcdn.com/font-awesome/4.6.3/css/font-awesome.min.css&quot;/&gt;\n",
       "    &lt;link rel=&quot;stylesheet&quot; href=&quot;https://cdnjs.cloudflare.com/ajax/libs/Leaflet.awesome-markers/2.0.2/leaflet.awesome-markers.css&quot;/&gt;\n",
       "    &lt;link rel=&quot;stylesheet&quot; href=&quot;https://cdn.jsdelivr.net/gh/python-visualization/folium/folium/templates/leaflet.awesome.rotate.min.css&quot;/&gt;\n",
       "    \n",
       "            &lt;meta name=&quot;viewport&quot; content=&quot;width=device-width,\n",
       "                initial-scale=1.0, maximum-scale=1.0, user-scalable=no&quot; /&gt;\n",
       "            &lt;style&gt;\n",
       "                #map_39962402b39aa0210f748ae85d0036ff {\n",
       "                    position: relative;\n",
       "                    width: 100.0%;\n",
       "                    height: 100.0%;\n",
       "                    left: 0.0%;\n",
       "                    top: 0.0%;\n",
       "                }\n",
       "            &lt;/style&gt;\n",
       "        \n",
       "    \n",
       "                    &lt;style&gt;\n",
       "                        .foliumtooltip {\n",
       "                            \n",
       "                        }\n",
       "                       .foliumtooltip table{\n",
       "                            margin: auto;\n",
       "                        }\n",
       "                        .foliumtooltip tr{\n",
       "                            text-align: left;\n",
       "                        }\n",
       "                        .foliumtooltip th{\n",
       "                            padding: 2px; padding-right: 8px;\n",
       "                        }\n",
       "                    &lt;/style&gt;\n",
       "            \n",
       "&lt;/head&gt;\n",
       "&lt;body&gt;    \n",
       "    \n",
       "            &lt;div class=&quot;folium-map&quot; id=&quot;map_39962402b39aa0210f748ae85d0036ff&quot; &gt;&lt;/div&gt;\n",
       "        \n",
       "&lt;/body&gt;\n",
       "&lt;script&gt;    \n",
       "    \n",
       "            var map_39962402b39aa0210f748ae85d0036ff = L.map(\n",
       "                &quot;map_39962402b39aa0210f748ae85d0036ff&quot;,\n",
       "                {\n",
       "                    center: [51.78937446586407, 12.757057496598577],\n",
       "                    crs: L.CRS.EPSG3857,\n",
       "                    zoom: 10,\n",
       "                    zoomControl: true,\n",
       "                    preferCanvas: false,\n",
       "                }\n",
       "            );\n",
       "            L.control.scale().addTo(map_39962402b39aa0210f748ae85d0036ff);\n",
       "\n",
       "            \n",
       "\n",
       "        \n",
       "    \n",
       "            var tile_layer_41a0c5040bfa6f81b2c0558b4c8abd45 = L.tileLayer(\n",
       "                &quot;https://{s}.tile.openstreetmap.org/{z}/{x}/{y}.png&quot;,\n",
       "                {&quot;attribution&quot;: &quot;Data by \\u0026copy; \\u003ca href=\\&quot;http://openstreetmap.org\\&quot;\\u003eOpenStreetMap\\u003c/a\\u003e, under \\u003ca href=\\&quot;http://www.openstreetmap.org/copyright\\&quot;\\u003eODbL\\u003c/a\\u003e.&quot;, &quot;detectRetina&quot;: false, &quot;maxNativeZoom&quot;: 18, &quot;maxZoom&quot;: 18, &quot;minZoom&quot;: 0, &quot;noWrap&quot;: false, &quot;opacity&quot;: 1, &quot;subdomains&quot;: &quot;abc&quot;, &quot;tms&quot;: false}\n",
       "            ).addTo(map_39962402b39aa0210f748ae85d0036ff);\n",
       "        \n",
       "    \n",
       "            map_39962402b39aa0210f748ae85d0036ff.fitBounds(\n",
       "                [[51.27892518278613, 11.974135312319333], [52.29982374894202, 13.539979680877822]],\n",
       "                {}\n",
       "            );\n",
       "        \n",
       "    \n",
       "        function geo_json_f80eed2b2cae970b5e6aee2b0faade8e_styler(feature) {\n",
       "            switch(feature.id) {\n",
       "                default:\n",
       "                    return {&quot;fillOpacity&quot;: 0.5, &quot;weight&quot;: 2};\n",
       "            }\n",
       "        }\n",
       "        function geo_json_f80eed2b2cae970b5e6aee2b0faade8e_highlighter(feature) {\n",
       "            switch(feature.id) {\n",
       "                default:\n",
       "                    return {&quot;fillOpacity&quot;: 0.75};\n",
       "            }\n",
       "        }\n",
       "        function geo_json_f80eed2b2cae970b5e6aee2b0faade8e_pointToLayer(feature, latlng) {\n",
       "            var opts = {&quot;bubblingMouseEvents&quot;: true, &quot;color&quot;: &quot;#3388ff&quot;, &quot;dashArray&quot;: null, &quot;dashOffset&quot;: null, &quot;fill&quot;: true, &quot;fillColor&quot;: &quot;#3388ff&quot;, &quot;fillOpacity&quot;: 0.2, &quot;fillRule&quot;: &quot;evenodd&quot;, &quot;lineCap&quot;: &quot;round&quot;, &quot;lineJoin&quot;: &quot;round&quot;, &quot;opacity&quot;: 1.0, &quot;radius&quot;: 2, &quot;stroke&quot;: true, &quot;weight&quot;: 3};\n",
       "            \n",
       "            let style = geo_json_f80eed2b2cae970b5e6aee2b0faade8e_styler(feature)\n",
       "            Object.assign(opts, style)\n",
       "            \n",
       "            return new L.CircleMarker(latlng, opts)\n",
       "        }\n",
       "\n",
       "        function geo_json_f80eed2b2cae970b5e6aee2b0faade8e_onEachFeature(feature, layer) {\n",
       "            layer.on({\n",
       "                mouseout: function(e) {\n",
       "                    if(typeof e.target.setStyle === &quot;function&quot;){\n",
       "                        geo_json_f80eed2b2cae970b5e6aee2b0faade8e.resetStyle(e.target);\n",
       "                    }\n",
       "                },\n",
       "                mouseover: function(e) {\n",
       "                    if(typeof e.target.setStyle === &quot;function&quot;){\n",
       "                        const highlightStyle = geo_json_f80eed2b2cae970b5e6aee2b0faade8e_highlighter(e.target.feature)\n",
       "                        e.target.setStyle(highlightStyle);\n",
       "                    }\n",
       "                },\n",
       "            });\n",
       "        };\n",
       "        var geo_json_f80eed2b2cae970b5e6aee2b0faade8e = L.geoJson(null, {\n",
       "                onEachFeature: geo_json_f80eed2b2cae970b5e6aee2b0faade8e_onEachFeature,\n",
       "            \n",
       "                style: geo_json_f80eed2b2cae970b5e6aee2b0faade8e_styler,\n",
       "                pointToLayer: geo_json_f80eed2b2cae970b5e6aee2b0faade8e_pointToLayer\n",
       "        });\n",
       "\n",
       "        function geo_json_f80eed2b2cae970b5e6aee2b0faade8e_add (data) {\n",
       "            geo_json_f80eed2b2cae970b5e6aee2b0faade8e\n",
       "                .addData(data)\n",
       "                .addTo(map_39962402b39aa0210f748ae85d0036ff);\n",
       "        }\n",
       "            geo_json_f80eed2b2cae970b5e6aee2b0faade8e_add({&quot;bbox&quot;: [11.974135312319333, 51.27892518278613, 13.539979680877822, 52.29982374894202], &quot;features&quot;: [{&quot;bbox&quot;: [11.974135312319333, 51.27892518278613, 13.539979680877822, 52.29982374894202], &quot;geometry&quot;: {&quot;coordinates&quot;: [[[[13.442095184333063, 51.27892518278613], [13.539979680877822, 52.26313739791785], [12.382196588784051, 52.29982374894202], [12.329624464717355, 52.175875802437616], [12.267904345396206, 52.03013821901169], [12.20636810280726, 51.8844526426463], [12.145294085073978, 51.73876331357213], [12.084643784195237, 51.59303437564165], [12.024417464280509, 51.44726719128644], [11.974135312319333, 51.32481844382785], [13.442095184333063, 51.27892518278613]]]], &quot;type&quot;: &quot;MultiPolygon&quot;}, &quot;id&quot;: &quot;bbd5d330-b017-4ae3-b669-2a2a0768272b&quot;, &quot;properties&quot;: {&quot;summary&quot;: &quot;Date: 2022-03-24T10:06:49.024Z, Instrument: MSI, Satellite: Sentinel-2, Size: 957.67 MB&quot;, &quot;title&quot;: &quot;S2B_MSIL2A_20220324T100649_N0400_R022_T32UQC_20220324T132305&quot;}, &quot;type&quot;: &quot;Feature&quot;}], &quot;type&quot;: &quot;FeatureCollection&quot;});\n",
       "\n",
       "        \n",
       "    \n",
       "    geo_json_f80eed2b2cae970b5e6aee2b0faade8e.bindTooltip(\n",
       "    function(layer){\n",
       "    let div = L.DomUtil.create(&#x27;div&#x27;);\n",
       "    \n",
       "    let handleObject = feature=&gt;typeof(feature)==&#x27;object&#x27; ? JSON.stringify(feature) : feature;\n",
       "    let fields = [&quot;title&quot;, &quot;summary&quot;];\n",
       "    let aliases = [&quot;title&quot;, &quot;summary&quot;];\n",
       "    let table = &#x27;&lt;table&gt;&#x27; +\n",
       "        String(\n",
       "        fields.map(\n",
       "        (v,i)=&gt;\n",
       "        `&lt;tr&gt;\n",
       "            &lt;th&gt;${aliases[i]}&lt;/th&gt;\n",
       "            \n",
       "            &lt;td&gt;${handleObject(layer.feature.properties[v])}&lt;/td&gt;\n",
       "        &lt;/tr&gt;`).join(&#x27;&#x27;))\n",
       "    +&#x27;&lt;/table&gt;&#x27;;\n",
       "    div.innerHTML=table;\n",
       "    \n",
       "    return div\n",
       "    }\n",
       "    ,{&quot;className&quot;: &quot;foliumtooltip&quot;, &quot;sticky&quot;: true});\n",
       "                     \n",
       "&lt;/script&gt;\" style=\"position:absolute;width:100%;height:100%;left:0;top:0;border:none !important;\" allowfullscreen webkitallowfullscreen mozallowfullscreen></iframe></div></div>"
      ],
      "text/plain": [
       "<folium.folium.Map at 0x7ff7bc0c80a0>"
      ]
     },
     "execution_count": 14,
     "metadata": {},
     "output_type": "execute_result"
    }
   ],
   "source": [
    "# Would fail, because there are entries that cannot be JSON encoded!\n",
    "# product.explore()\n",
    "# Only visualize the relevant columns and convert them if necessary\n",
    "product[[\"title\", \"summary\", \"geometry\"]].explore()"
   ]
  },
  {
   "cell_type": "code",
   "execution_count": 15,
   "metadata": {},
   "outputs": [
    {
     "data": {
      "text/html": [
       "<div>\n",
       "<style scoped>\n",
       "    .dataframe tbody tr th:only-of-type {\n",
       "        vertical-align: middle;\n",
       "    }\n",
       "\n",
       "    .dataframe tbody tr th {\n",
       "        vertical-align: top;\n",
       "    }\n",
       "\n",
       "    .dataframe thead th {\n",
       "        text-align: right;\n",
       "    }\n",
       "</style>\n",
       "<table border=\"1\" class=\"dataframe\">\n",
       "  <thead>\n",
       "    <tr style=\"text-align: right;\">\n",
       "      <th></th>\n",
       "      <th>title</th>\n",
       "      <th>link</th>\n",
       "      <th>link_alternative</th>\n",
       "      <th>link_icon</th>\n",
       "      <th>summary</th>\n",
       "      <th>ondemand</th>\n",
       "      <th>generationdate</th>\n",
       "      <th>beginposition</th>\n",
       "      <th>endposition</th>\n",
       "      <th>ingestiondate</th>\n",
       "      <th>...</th>\n",
       "      <th>producttype</th>\n",
       "      <th>platformidentifier</th>\n",
       "      <th>orbitdirection</th>\n",
       "      <th>platformserialidentifier</th>\n",
       "      <th>processinglevel</th>\n",
       "      <th>datastripidentifier</th>\n",
       "      <th>granuleidentifier</th>\n",
       "      <th>identifier</th>\n",
       "      <th>uuid</th>\n",
       "      <th>geometry</th>\n",
       "    </tr>\n",
       "  </thead>\n",
       "  <tbody>\n",
       "    <tr>\n",
       "      <th>bbd5d330-b017-4ae3-b669-2a2a0768272b</th>\n",
       "      <td>S2B_MSIL2A_20220324T100649_N0400_R022_T32UQC_2...</td>\n",
       "      <td>https://scihub.copernicus.eu/dhus/odata/v1/Pro...</td>\n",
       "      <td>https://scihub.copernicus.eu/dhus/odata/v1/Pro...</td>\n",
       "      <td>https://scihub.copernicus.eu/dhus/odata/v1/Pro...</td>\n",
       "      <td>Date: 2022-03-24T10:06:49.024Z, Instrument: MS...</td>\n",
       "      <td>false</td>\n",
       "      <td>2022-03-24 13:23:05</td>\n",
       "      <td>2022-03-24 10:06:49.024</td>\n",
       "      <td>2022-03-24 10:06:49.024</td>\n",
       "      <td>2022-03-24 16:36:45.886</td>\n",
       "      <td>...</td>\n",
       "      <td>S2MSI2A</td>\n",
       "      <td>2017-013A</td>\n",
       "      <td>DESCENDING</td>\n",
       "      <td>Sentinel-2B</td>\n",
       "      <td>Level-2A</td>\n",
       "      <td>S2B_OPER_MSI_L2A_DS_VGS2_20220324T132305_S2022...</td>\n",
       "      <td>S2B_OPER_MSI_L2A_TL_VGS2_20220324T132305_A0263...</td>\n",
       "      <td>S2B_MSIL2A_20220324T100649_N0400_R022_T32UQC_2...</td>\n",
       "      <td>bbd5d330-b017-4ae3-b669-2a2a0768272b</td>\n",
       "      <td>MULTIPOLYGON (((13.44210 51.27893, 13.53998 52...</td>\n",
       "    </tr>\n",
       "  </tbody>\n",
       "</table>\n",
       "<p>1 rows × 41 columns</p>\n",
       "</div>"
      ],
      "text/plain": [
       "                                                                                  title  \\\n",
       "bbd5d330-b017-4ae3-b669-2a2a0768272b  S2B_MSIL2A_20220324T100649_N0400_R022_T32UQC_2...   \n",
       "\n",
       "                                                                                   link  \\\n",
       "bbd5d330-b017-4ae3-b669-2a2a0768272b  https://scihub.copernicus.eu/dhus/odata/v1/Pro...   \n",
       "\n",
       "                                                                       link_alternative  \\\n",
       "bbd5d330-b017-4ae3-b669-2a2a0768272b  https://scihub.copernicus.eu/dhus/odata/v1/Pro...   \n",
       "\n",
       "                                                                              link_icon  \\\n",
       "bbd5d330-b017-4ae3-b669-2a2a0768272b  https://scihub.copernicus.eu/dhus/odata/v1/Pro...   \n",
       "\n",
       "                                                                                summary  \\\n",
       "bbd5d330-b017-4ae3-b669-2a2a0768272b  Date: 2022-03-24T10:06:49.024Z, Instrument: MS...   \n",
       "\n",
       "                                     ondemand      generationdate  \\\n",
       "bbd5d330-b017-4ae3-b669-2a2a0768272b    false 2022-03-24 13:23:05   \n",
       "\n",
       "                                               beginposition  \\\n",
       "bbd5d330-b017-4ae3-b669-2a2a0768272b 2022-03-24 10:06:49.024   \n",
       "\n",
       "                                                 endposition  \\\n",
       "bbd5d330-b017-4ae3-b669-2a2a0768272b 2022-03-24 10:06:49.024   \n",
       "\n",
       "                                               ingestiondate  ...  \\\n",
       "bbd5d330-b017-4ae3-b669-2a2a0768272b 2022-03-24 16:36:45.886  ...   \n",
       "\n",
       "                                      producttype  platformidentifier  \\\n",
       "bbd5d330-b017-4ae3-b669-2a2a0768272b      S2MSI2A           2017-013A   \n",
       "\n",
       "                                      orbitdirection  \\\n",
       "bbd5d330-b017-4ae3-b669-2a2a0768272b      DESCENDING   \n",
       "\n",
       "                                      platformserialidentifier  \\\n",
       "bbd5d330-b017-4ae3-b669-2a2a0768272b               Sentinel-2B   \n",
       "\n",
       "                                      processinglevel  \\\n",
       "bbd5d330-b017-4ae3-b669-2a2a0768272b         Level-2A   \n",
       "\n",
       "                                                                    datastripidentifier  \\\n",
       "bbd5d330-b017-4ae3-b669-2a2a0768272b  S2B_OPER_MSI_L2A_DS_VGS2_20220324T132305_S2022...   \n",
       "\n",
       "                                                                      granuleidentifier  \\\n",
       "bbd5d330-b017-4ae3-b669-2a2a0768272b  S2B_OPER_MSI_L2A_TL_VGS2_20220324T132305_A0263...   \n",
       "\n",
       "                                                                             identifier  \\\n",
       "bbd5d330-b017-4ae3-b669-2a2a0768272b  S2B_MSIL2A_20220324T100649_N0400_R022_T32UQC_2...   \n",
       "\n",
       "                                                                      uuid  \\\n",
       "bbd5d330-b017-4ae3-b669-2a2a0768272b  bbd5d330-b017-4ae3-b669-2a2a0768272b   \n",
       "\n",
       "                                                                               geometry  \n",
       "bbd5d330-b017-4ae3-b669-2a2a0768272b  MULTIPOLYGON (((13.44210 51.27893, 13.53998 52...  \n",
       "\n",
       "[1 rows x 41 columns]"
      ]
     },
     "execution_count": 15,
     "metadata": {},
     "output_type": "execute_result"
    }
   ],
   "source": [
    "product"
   ]
  },
  {
   "cell_type": "code",
   "execution_count": 17,
   "metadata": {},
   "outputs": [
    {
     "data": {
      "application/vnd.jupyter.widget-view+json": {
       "model_id": "fc72c4d0210e41aebe4a1e26d2a5bed0",
       "version_major": 2,
       "version_minor": 0
      },
      "text/plain": [
       "Downloading products:   0%|          | 0/1 [00:00<?, ?product/s]"
      ]
     },
     "metadata": {},
     "output_type": "display_data"
    },
    {
     "data": {
      "application/vnd.jupyter.widget-view+json": {
       "model_id": "b8e8f9be921543859b8e8a447894c226",
       "version_major": 2,
       "version_minor": 0
      },
      "text/plain": [
       "Downloading S2B_MSIL2A_20220324T100649_N0400_R022_T32UQC_20220324T132305.zip:   0%|          | 0.00/1.00G [00:…"
      ]
     },
     "metadata": {},
     "output_type": "display_data"
    },
    {
     "data": {
      "application/vnd.jupyter.widget-view+json": {
       "model_id": "93e74a7395d243b1bda4cdc579abf1dd",
       "version_major": 2,
       "version_minor": 0
      },
      "text/plain": [
       "MD5 checksumming:   0%|          | 0.00/1.00G [00:00<?, ?B/s]"
      ]
     },
     "metadata": {},
     "output_type": "display_data"
    }
   ],
   "source": [
    "#Download Tile\n",
    "\n",
    "download_dir = Path(\"./data/homework\")\n",
    "download_dir.mkdir(exist_ok=True)\n",
    "\n",
    "# ~800MB large!\n",
    "# May take a while to download\n",
    "# The download is very slow from their server\n",
    "\n",
    "output_file = download_dir / f\"{product.title[0]}.zip\"\n",
    "if not output_file.exists():\n",
    "    api_sent.download_all(product.index, directory_path=download_dir)"
   ]
  },
  {
   "cell_type": "code",
   "execution_count": 22,
   "metadata": {},
   "outputs": [],
   "source": [
    "# extract zip\n",
    "zipf = zipfile.ZipFile(output_file)\n",
    "zipf.extractall(path=\"data/homework\")"
   ]
  },
  {
   "cell_type": "code",
   "execution_count": 23,
   "metadata": {},
   "outputs": [],
   "source": [
    "unzipped_dir = output_file.with_suffix(\".SAFE\")\n",
    "assert unzipped_dir.exists()"
   ]
  },
  {
   "cell_type": "code",
   "execution_count": 39,
   "metadata": {},
   "outputs": [],
   "source": [
    "### DO NOT EDIT\n",
    "submission_tile_id = deepcopy(tile_id)\n",
    "##"
   ]
  },
  {
   "cell_type": "markdown",
   "metadata": {},
   "source": [
    "## Valid sub-region\n",
    "\n",
    "From the previously downloaded tile, extract a _valid_ subregion.\n",
    "Convert the subregion to a `uint8` array without dropping important information (i.e., not simply calling `np.uint8` on the input)."
   ]
  },
  {
   "cell_type": "code",
   "execution_count": null,
   "metadata": {},
   "outputs": [],
   "source": [
    "### Add here the code to select a valid subregion\n",
    "\n",
    "subregion_uint8 = ..."
   ]
  },
  {
   "cell_type": "code",
   "execution_count": null,
   "metadata": {},
   "outputs": [],
   "source": [
    "### DO NOT EDIT\n",
    "submission_subregion_uint8 = deepcopy(subregion_uint8)\n",
    "###"
   ]
  },
  {
   "cell_type": "markdown",
   "metadata": {},
   "source": [
    "### Visualize the valid sub-region\n",
    "\n",
    "Visualize a _single band_ from the valid subregion _without_ applying any explicit or implicit normalization strategy.\n",
    "The input array passed to `plt.imshow` has to be in the range `[0, 255]`. This range should also be reflected in the `vmin/vmax` parameters."
   ]
  },
  {
   "cell_type": "code",
   "execution_count": null,
   "metadata": {},
   "outputs": [],
   "source": [
    "# Add the code to visualize the single band\n",
    "# without normalization here:\n",
    "\n",
    "# imshow_inp is the array that should be passed to plt.imshow\n",
    "imshow_inp = ..."
   ]
  },
  {
   "cell_type": "code",
   "execution_count": null,
   "metadata": {},
   "outputs": [],
   "source": [
    "# DO NOT EDIT\n",
    "submission_imshow_inp = deepcopy(imshow_inp)\n",
    "###"
   ]
  },
  {
   "cell_type": "markdown",
   "metadata": {},
   "source": [
    "## Morphological operators & Thresholding\n",
    "\n",
    "The goal of this section is to combine morphological operators with thresholding strategies to create a binary/output mask that can then be used to segment the region/object of interest.\n",
    "You are _not_ required to perfectly segment the object of interest. It is sufficient if the visual results _indicate_ the object of interest.\n",
    "\n",
    "You have to meet the following requirements:\n",
    "- You are _not_ allowed to use simple rectangular structuring elements.\n",
    "- The values of the output mask must either be 0 or 1\n",
    "    - 0 is used to indicate the absence of the object\n",
    "    - 1 is used to indicate the presence of the object"
   ]
  },
  {
   "cell_type": "code",
   "execution_count": null,
   "metadata": {},
   "outputs": [],
   "source": [
    "# Add code here to apply morphological operators\n",
    "# and thresholding strategy\n",
    "# You are allowed to change/mix the order\n",
    "\n",
    "output_mask = ..."
   ]
  },
  {
   "cell_type": "code",
   "execution_count": null,
   "metadata": {},
   "outputs": [],
   "source": [
    "# DO NOT EDIT\n",
    "submission_output_mask = deepcopy(output_mask)\n",
    "###"
   ]
  },
  {
   "cell_type": "markdown",
   "metadata": {},
   "source": [
    "To visually evaluate your result, use the output mask as an overlay for the RGB channels of the input array.\n",
    "The colored output should be normalized to enhance the viewing experiment.\n",
    "You can choose any _valid_ normalization strategy/method for the RGB channels."
   ]
  },
  {
   "cell_type": "code",
   "execution_count": null,
   "metadata": {},
   "outputs": [],
   "source": [
    "# Visualize the overlayed image"
   ]
  },
  {
   "cell_type": "markdown",
   "metadata": {},
   "source": [
    "### Discussion\n",
    "\n",
    "Discuss what you have learned when applying the morphological operators and thresholding strategies.\n",
    "What didn't work? What issues did you have? What helped?\n",
    "How did you decide to use the variables you have chosen?\n",
    "\n",
    "It is not necessary to give an in-depth discussion about each value.\n",
    "It should be clear, however, that you have tried different configurations and why you have decided on the current configuration."
   ]
  },
  {
   "cell_type": "markdown",
   "metadata": {},
   "source": [
    "Here you should write discussion:"
   ]
  },
  {
   "cell_type": "markdown",
   "metadata": {},
   "source": [
    "## Submission\n",
    "\n",
    "- Follow the instructions mentioned in this notebook.\n",
    "- You are _not_ allowed to install other libraries.\n",
    "    - The submitted jupyter notebook should be able to run as-is on paperspace and/or the provided Docker image.\n",
    "- Explain the steps that went into the decision making of the specific values.\n",
    "- It is essential that each homework should be done individually!\n",
    "- The notebook should have been executed once before submitting it\n",
    "    - The notebook should _not_ be _cleaned_ before submitting\n",
    "\n",
    "Each student should submit the following materials to the ISIS system:\n",
    "- One `zip` file containing the jupyter notebook named as: `IP4RS2022-HW1_<NAME_SURNAME>.zip`\n",
    "\n",
    "\n",
    "\n",
    "### Submission variables\n",
    "\n",
    "Please ensure that these variables are correct after you have restarted your notebook and executed all cells from top to bottom.\n",
    "You are _not allowed_ to modify the following cells:"
   ]
  },
  {
   "cell_type": "code",
   "execution_count": null,
   "metadata": {},
   "outputs": [],
   "source": [
    "import rich\n",
    "\n",
    "rich.print(f\"{submission_tile_id=}\")\n",
    "rich.print(f\"{submission_subregion_uint8=}\")\n",
    "rich.print(f\"{submission_output_mask=}\")"
   ]
  },
  {
   "cell_type": "code",
   "execution_count": null,
   "metadata": {},
   "outputs": [],
   "source": []
  }
 ],
 "metadata": {
  "interpreter": {
   "hash": "d950cc255805eca97bc9adaef38440cdd4d88c80fff2afb10853f0ffb81a073c"
  },
  "kernelspec": {
   "display_name": "ip4rs",
   "language": "python",
   "name": "ip4rs"
  },
  "language_info": {
   "codemirror_mode": {
    "name": "ipython",
    "version": 3
   },
   "file_extension": ".py",
   "mimetype": "text/x-python",
   "name": "python",
   "nbconvert_exporter": "python",
   "pygments_lexer": "ipython3",
   "version": "3.8.13"
  }
 },
 "nbformat": 4,
 "nbformat_minor": 4
}
