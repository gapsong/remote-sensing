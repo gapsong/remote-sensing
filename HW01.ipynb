{
 "cells": [
  {
   "cell_type": "markdown",
   "metadata": {},
   "source": [
    "# Homework 01 \n",
    "\n",
    "This Jupyter Notebook file is a template that we provide for the homework.\n",
    "You _must_ use this template and follow the instructions.\n",
    "To unify the submission, we require you to store specific intermediate results into _\"submission-variables\"_.\n",
    "These values are printed at the _end_ of the jupyter notebook and will be (partially) used to grade your assignment.\n",
    "Please ensure that these variables have the correct values and aren't overwritten by following code-cells."
   ]
  },
  {
   "cell_type": "code",
   "execution_count": null,
   "metadata": {},
   "outputs": [],
   "source": [
    "# used for submission variables\n",
    "from copy import deepcopy"
   ]
  },
  {
   "cell_type": "markdown",
   "metadata": {},
   "source": [
    "## Sentinel-2 tile download\n",
    "\n",
    "Download a Sentinel-2 tile from [SciHub Copernicus](https://scihub.copernicus.eu/dhus/#/home) with the following requirements:\n",
    "- With the sensing date _after_ 01.03.2022\n",
    "- With the product-type `S2MSI2A`\n",
    "- _At least_ a cloud cover percentage of 1% but _no more_ than 20%\n",
    "- Not the tile with the id: \n",
    "    - `6e5ad1c9-fc0e-4b93-9b5c-d0d401673206`\n",
    "\n",
    "_Write_ down (inside of a markdown cell) a city that is part of the downloaded Sentinel-2 tile!"
   ]
  },
  {
   "cell_type": "markdown",
   "metadata": {},
   "source": [
    "To ensure that no secrets are shared, please use the following code template.\n",
    "You can create a [TOML](https://en.wikipedia.org/wiki/TOML) file called `.secrets.toml` with the contents:\n",
    "\n",
    "```toml\n",
    "\n",
    "scihub_copernicus_user = \"<YOUR_PWD>\"\n",
    "scihub_copernicus_pwd = \"<YOUR_PWD>\"\n",
    "```\n",
    "\n",
    "Or you can simply remove your username/password _after_ executing the notebook and _before_ submitting it."
   ]
  },
  {
   "cell_type": "code",
   "execution_count": null,
   "metadata": {},
   "outputs": [],
   "source": [
    "# KEEP\n",
    "from dynaconf import Dynaconf\n",
    "\n",
    "settings = Dynaconf(\n",
    "    envvar_prefix=\"IP4RS\",\n",
    "    settings_files=[\"settings.toml\", \".secrets.toml\"],\n",
    ")\n",
    "\n",
    "SENTINEL_API_URL = \"https://scihub.copernicus.eu/dhus\"\n",
    "YOUR_USERNAME = \"\"\n",
    "YOUR_PWD = \"\"\n",
    "user = settings.get(\"scihub_copernicus_user\", default=YOUR_USERNAME)\n",
    "pwd = settings.get(\"scihub_copernicus_pwd\", default=YOUR_PWD)\n",
    "\n",
    "assert user != r\"\"\n",
    "assert pwd != r\"\"\n",
    "###"
   ]
  },
  {
   "cell_type": "code",
   "execution_count": null,
   "metadata": {},
   "outputs": [],
   "source": [
    "# Add here the code to select and download the tile\n",
    "\n",
    "# The tile-id should be generated here\n",
    "# for example:\n",
    "tile_id = \"6e5ad1c9-fc0e-4b93-9b5c-d0d401673206\""
   ]
  },
  {
   "cell_type": "code",
   "execution_count": null,
   "metadata": {},
   "outputs": [],
   "source": [
    "### DO NOT EDIT\n",
    "submission_tile_id = deepcopy(tile_id)\n",
    "##"
   ]
  },
  {
   "cell_type": "markdown",
   "metadata": {},
   "source": [
    "## Valid sub-region\n",
    "\n",
    "From the previously downloaded tile, extract a _valid_ subregion.\n",
    "Convert the subregion to a `uint8` array without dropping important information (i.e., not simply calling `np.uint8` on the input)."
   ]
  },
  {
   "cell_type": "code",
   "execution_count": null,
   "metadata": {},
   "outputs": [],
   "source": [
    "### Add here the code to select a valid subregion\n",
    "\n",
    "subregion_uint8 = ..."
   ]
  },
  {
   "cell_type": "code",
   "execution_count": null,
   "metadata": {},
   "outputs": [],
   "source": [
    "### DO NOT EDIT\n",
    "submission_subregion_uint8 = deepcopy(subregion_uint8)\n",
    "###"
   ]
  },
  {
   "cell_type": "markdown",
   "metadata": {},
   "source": [
    "### Visualize the valid sub-region\n",
    "\n",
    "Visualize a _single band_ from the valid subregion _without_ applying any explicit or implicit normalization strategy.\n",
    "The input array passed to `plt.imshow` has to be in the range `[0, 255]`. This range should also be reflected in the `vmin/vmax` parameters."
   ]
  },
  {
   "cell_type": "code",
   "execution_count": null,
   "metadata": {},
   "outputs": [],
   "source": [
    "# Add the code to visualize the single band\n",
    "# without normalization here:\n",
    "\n",
    "# imshow_inp is the array that should be passed to plt.imshow\n",
    "imshow_inp = ..."
   ]
  },
  {
   "cell_type": "code",
   "execution_count": null,
   "metadata": {},
   "outputs": [],
   "source": [
    "# DO NOT EDIT\n",
    "submission_imshow_inp = deepcopy(imshow_inp)\n",
    "###"
   ]
  },
  {
   "cell_type": "markdown",
   "metadata": {},
   "source": [
    "## Morphological operators & Thresholding\n",
    "\n",
    "The goal of this section is to combine morphological operators with thresholding strategies to create a binary/output mask that can then be used to segment the region/object of interest.\n",
    "You are _not_ required to perfectly segment the object of interest. It is sufficient if the visual results _indicate_ the object of interest.\n",
    "\n",
    "You have to meet the following requirements:\n",
    "- You are _not_ allowed to use simple rectangular structuring elements.\n",
    "- The values of the output mask must either be 0 or 1\n",
    "    - 0 is used to indicate the absence of the object\n",
    "    - 1 is used to indicate the presence of the object"
   ]
  },
  {
   "cell_type": "code",
   "execution_count": null,
   "metadata": {},
   "outputs": [],
   "source": [
    "# Add code here to apply morphological operators\n",
    "# and thresholding strategy\n",
    "# You are allowed to change/mix the order\n",
    "\n",
    "output_mask = ..."
   ]
  },
  {
   "cell_type": "code",
   "execution_count": null,
   "metadata": {},
   "outputs": [],
   "source": [
    "# DO NOT EDIT\n",
    "submission_output_mask = deepcopy(output_mask)\n",
    "###"
   ]
  },
  {
   "cell_type": "markdown",
   "metadata": {},
   "source": [
    "To visually evaluate your result, use the output mask as an overlay for the RGB channels of the input array.\n",
    "The colored output should be normalized to enhance the viewing experiment.\n",
    "You can choose any _valid_ normalization strategy/method for the RGB channels."
   ]
  },
  {
   "cell_type": "code",
   "execution_count": null,
   "metadata": {},
   "outputs": [],
   "source": [
    "# Visualize the overlayed image"
   ]
  },
  {
   "cell_type": "markdown",
   "metadata": {},
   "source": [
    "### Discussion\n",
    "\n",
    "Discuss what you have learned when applying the morphological operators and thresholding strategies.\n",
    "What didn't work? What issues did you have? What helped?\n",
    "How did you decide to use the variables you have chosen?\n",
    "\n",
    "It is not necessary to give an in-depth discussion about each value.\n",
    "It should be clear, however, that you have tried different configurations and why you have decided on the current configuration."
   ]
  },
  {
   "cell_type": "markdown",
   "metadata": {},
   "source": [
    "Here you should write discussion:"
   ]
  },
  {
   "cell_type": "markdown",
   "metadata": {},
   "source": [
    "## Submission\n",
    "\n",
    "- Follow the instructions mentioned in this notebook.\n",
    "- You are _not_ allowed to install other libraries.\n",
    "    - The submitted jupyter notebook should be able to run as-is on paperspace and/or the provided Docker image.\n",
    "- Explain the steps that went into the decision making of the specific values.\n",
    "- It is essential that each homework should be done individually!\n",
    "- The notebook should have been executed once before submitting it\n",
    "    - The notebook should _not_ be _cleaned_ before submitting\n",
    "\n",
    "Each student should submit the following materials to the ISIS system:\n",
    "- One `zip` file containing the jupyter notebook named as: `IP4RS2022-HW1_<NAME_SURNAME>.zip`\n",
    "\n",
    "\n",
    "\n",
    "### Submission variables\n",
    "\n",
    "Please ensure that these variables are correct after you have restarted your notebook and executed all cells from top to bottom.\n",
    "You are _not allowed_ to modify the following cells:"
   ]
  },
  {
   "cell_type": "code",
   "execution_count": null,
   "metadata": {},
   "outputs": [],
   "source": [
    "import rich\n",
    "\n",
    "rich.print(f\"{submission_tile_id=}\")\n",
    "rich.print(f\"{submission_subregion_uint8=}\")\n",
    "rich.print(f\"{submission_output_mask=}\")"
   ]
  },
  {
   "cell_type": "code",
   "execution_count": null,
   "metadata": {},
   "outputs": [],
   "source": []
  }
 ],
 "metadata": {
  "interpreter": {
   "hash": "d950cc255805eca97bc9adaef38440cdd4d88c80fff2afb10853f0ffb81a073c"
  },
  "kernelspec": {
   "display_name": "Python 3.8.13 ('ip4rs')",
   "language": "python",
   "name": "python3"
  },
  "language_info": {
   "codemirror_mode": {
    "name": "ipython",
    "version": 3
   },
   "file_extension": ".py",
   "mimetype": "text/x-python",
   "name": "python",
   "nbconvert_exporter": "python",
   "pygments_lexer": "ipython3",
   "version": "3.8.13"
  }
 },
 "nbformat": 4,
 "nbformat_minor": 2
}
