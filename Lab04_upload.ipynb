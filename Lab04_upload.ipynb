{
 "cells": [
  {
   "cell_type": "markdown",
   "metadata": {
    "id": "sshoo_A_Uj1N"
   },
   "source": [
    "# Image Filtering\n",
    "\n",
    "Goal of the lecture:\n",
    "\n",
    "1. Understand and apply basic image filtering operations\n",
    "    - Average Filtering\n",
    "    - Median Filtering\n",
    "    - Sobel Filtering\n",
    "1. Learn how to define custom filters\n",
    "1. Utilize filter operations to denoise an image"
   ]
  },
  {
   "cell_type": "markdown",
   "metadata": {
    "id": "it7A5NIxWfBm"
   },
   "source": [
    "Useful links:\n",
    "- Theoretical lecture\n",
    "- Videos of [Computerphile](https://www.youtube.com/user/Computerphile) on the topic\n",
    "    - [Mean Filtering](https://www.youtube.com/watch?v=C_zFhWdM4ic&ab_channel=Computerphile)\n",
    "    - [Sobel](https://www.youtube.com/watch?v=uihBwtPIBxM&ab_channel=Computerphile)"
   ]
  },
  {
   "cell_type": "code",
   "execution_count": null,
   "metadata": {},
   "outputs": [],
   "source": [
    "# importing libraries and defining _smart_ imshow function\n",
    "import numpy as np\n",
    "from scipy import ndimage\n",
    "import matplotlib.pyplot as plt\n",
    "\n",
    "\n",
    "def imshow(*args, **kwargs):\n",
    "    # force cmap to be gray\n",
    "    kwargs[\"cmap\"] = \"gray\"\n",
    "    # no restrictions on vmin/vmax\n",
    "    # kwargs[\"vmin\"] = 0\n",
    "    # kwargs[\"vmax\"] = 255\n",
    "    plt.imshow(*args, **kwargs)\n",
    "    plt.axis(\"off\")\n",
    "\n",
    "\n",
    "def get_example_arr():\n",
    "    a = np.zeros((15, 15), dtype=np.float32)\n",
    "    a[:, 3:6] = 0.5\n",
    "    a[:, 6:9] = 1.0\n",
    "    a[:, 9:12] = 0.5\n",
    "    return a"
   ]
  },
  {
   "cell_type": "markdown",
   "metadata": {},
   "source": [
    "## Average filtering"
   ]
  },
  {
   "cell_type": "code",
   "execution_count": null,
   "metadata": {},
   "outputs": [],
   "source": [
    "a = get_example_arr()\n",
    "# use range [0, 1] for lab\n",
    "imshow(a, vmin=0, vmax=1.0)"
   ]
  },
  {
   "cell_type": "code",
   "execution_count": null,
   "metadata": {},
   "outputs": [],
   "source": [
    "print(a)"
   ]
  },
  {
   "cell_type": "code",
   "execution_count": null,
   "metadata": {},
   "outputs": [],
   "source": [
    "avg_kernel = np.ones((3, 3))\n",
    "avg_out = ndimage.convolve(a, avg_kernel)\n",
    "print(avg_out)"
   ]
  },
  {
   "cell_type": "markdown",
   "metadata": {},
   "source": [
    "Why does the following code produce the wrong output?"
   ]
  },
  {
   "cell_type": "code",
   "execution_count": null,
   "metadata": {},
   "outputs": [],
   "source": [
    "imshow(avg_out, vmin=0, vmax=1)"
   ]
  },
  {
   "cell_type": "code",
   "execution_count": null,
   "metadata": {},
   "outputs": [],
   "source": [
    "norm_avg_out = avg_out / avg_kernel.sum()\n",
    "imshow(norm_avg_out, vmin=0, vmax=1.0)\n",
    "\n",
    "# watch out for implicit normalization of imshow!\n",
    "# imshow(wrong_avg_out)"
   ]
  },
  {
   "cell_type": "markdown",
   "metadata": {},
   "source": [
    "The average filter:\n",
    "- Blurs edges\n",
    "    - Softer transitions (= smoothing effect)\n"
   ]
  },
  {
   "cell_type": "markdown",
   "metadata": {},
   "source": [
    "### In-course practice\n",
    "\n",
    "- Try out different kernel sizes"
   ]
  },
  {
   "cell_type": "code",
   "execution_count": 48,
   "metadata": {},
   "outputs": [],
   "source": [
    "# what is the effect of different kernel sizes?"
   ]
  },
  {
   "cell_type": "code",
   "execution_count": null,
   "metadata": {},
   "outputs": [],
   "source": [
    "noisy_a = get_example_arr()\n",
    "\n",
    "for n_x, n_y in [(5, 5), (-5, -5), (2, 2), (-2, -2), (2, -2)]:\n",
    "    noisy_a[n_x, n_y] = 1.0\n",
    "imshow(noisy_a)"
   ]
  },
  {
   "cell_type": "code",
   "execution_count": null,
   "metadata": {},
   "outputs": [],
   "source": [
    "avg_kernel = np.ones((3, 3))\n",
    "avg_out = ndimage.convolve(noisy_a, avg_kernel) / avg_kernel.sum()\n",
    "imshow(avg_out, vmin=0, vmax=1)"
   ]
  },
  {
   "cell_type": "markdown",
   "metadata": {},
   "source": [
    "## Median Filtering"
   ]
  },
  {
   "cell_type": "markdown",
   "metadata": {},
   "source": [
    "- Non-linear digital filtering technique\n",
    "- Reduces noise while preserves edges\n",
    "    - What other technique could be used to filter out noise without blurring the edges?\n",
    "- Effective for \"salt-and-pepper noise\"\n",
    "    - Sparsely occuring white and black pixels (defective pixels)"
   ]
  },
  {
   "cell_type": "code",
   "execution_count": null,
   "metadata": {},
   "outputs": [],
   "source": [
    "inp = np.zeros((3, 3))\n",
    "inp[-1, -1] = inp[0, 0] = 1\n",
    "inp"
   ]
  },
  {
   "cell_type": "code",
   "execution_count": null,
   "metadata": {},
   "outputs": [],
   "source": [
    "inp_flatten = inp.flatten()\n",
    "inp_flatten"
   ]
  },
  {
   "cell_type": "code",
   "execution_count": null,
   "metadata": {},
   "outputs": [],
   "source": [
    "inp_sorted = np.sort(inp_flatten)\n",
    "inp_sorted"
   ]
  },
  {
   "cell_type": "code",
   "execution_count": null,
   "metadata": {},
   "outputs": [],
   "source": [
    "idx = (inp_sorted.size - 1) // 2\n",
    "idx"
   ]
  },
  {
   "cell_type": "code",
   "execution_count": null,
   "metadata": {},
   "outputs": [],
   "source": [
    "inp_sorted[idx]"
   ]
  },
  {
   "cell_type": "code",
   "execution_count": null,
   "metadata": {},
   "outputs": [],
   "source": [
    "imshow(\n",
    "    ndimage.median_filter(noisy_a, size=(3, 3)),\n",
    "    vmin=0,\n",
    "    vmax=1,\n",
    ")"
   ]
  },
  {
   "cell_type": "markdown",
   "metadata": {},
   "source": [
    "### In-course practice\n",
    "\n",
    "Manually add noise with the maximum value to the input image that cannot be _filtered_ by the `3 x 3` median filter"
   ]
  },
  {
   "cell_type": "code",
   "execution_count": 49,
   "metadata": {},
   "outputs": [],
   "source": [
    "# How can one achieve that?"
   ]
  },
  {
   "cell_type": "markdown",
   "metadata": {},
   "source": [
    "## Sobel"
   ]
  },
  {
   "cell_type": "code",
   "execution_count": null,
   "metadata": {},
   "outputs": [],
   "source": [
    "a = get_example_arr()\n",
    "\n",
    "# note that the contents sum to 0\n",
    "# Preserving center pixels with 2\n",
    "# Prewitt would only have ones\n",
    "sobel_x = np.array(\n",
    "    [\n",
    "        [1, 0, -1],\n",
    "        [2, 0, -2],\n",
    "        [1, 0, -1],\n",
    "    ]\n",
    ")\n",
    "\n",
    "imshow(sobel_x)"
   ]
  },
  {
   "cell_type": "code",
   "execution_count": null,
   "metadata": {},
   "outputs": [],
   "source": [
    "sobel_x_a = ndimage.convolve(a, weights=sobel_x)\n",
    "print(sobel_x_a)"
   ]
  },
  {
   "cell_type": "markdown",
   "metadata": {},
   "source": [
    "- Why are some values negative?\n",
    "    - What does that mean?"
   ]
  },
  {
   "cell_type": "code",
   "execution_count": null,
   "metadata": {},
   "outputs": [],
   "source": [
    "imshow(a, vmin=0, vmax=1)"
   ]
  },
  {
   "cell_type": "code",
   "execution_count": null,
   "metadata": {},
   "outputs": [],
   "source": [
    "# utilize implicit normalization\n",
    "imshow(np.absolute(sobel_x_a))"
   ]
  },
  {
   "cell_type": "code",
   "execution_count": null,
   "metadata": {},
   "outputs": [],
   "source": [
    "horz_a = get_example_arr().T\n",
    "imshow(horz_a)"
   ]
  },
  {
   "cell_type": "markdown",
   "metadata": {},
   "source": [
    "What would the output of the sobel-x operation look like?"
   ]
  },
  {
   "cell_type": "markdown",
   "metadata": {},
   "source": [
    "### In-course practice\n",
    "\n",
    "Define a Sobel-Y filter and apply it to `horz_a`."
   ]
  },
  {
   "cell_type": "code",
   "execution_count": null,
   "metadata": {},
   "outputs": [],
   "source": []
  },
  {
   "cell_type": "markdown",
   "metadata": {},
   "source": [
    "Afterwards, try to construct a \"diagonal\" edge-detection filter."
   ]
  },
  {
   "cell_type": "code",
   "execution_count": null,
   "metadata": {},
   "outputs": [],
   "source": []
  }
 ],
 "metadata": {
  "colab": {
   "collapsed_sections": [],
   "name": "Lab03.ipynb",
   "provenance": [
    {
     "file_id": "1OOMKGkWMIbLEgfeIw-bQgDrVSLJtmwDr",
     "timestamp": 1620370628455
    }
   ]
  },
  "interpreter": {
   "hash": "d950cc255805eca97bc9adaef38440cdd4d88c80fff2afb10853f0ffb81a073c"
  },
  "kernelspec": {
   "display_name": "Python 3.8.13 ('ip4rs')",
   "language": "python",
   "name": "python3"
  },
  "language_info": {
   "codemirror_mode": {
    "name": "ipython",
    "version": 3
   },
   "file_extension": ".py",
   "mimetype": "text/x-python",
   "name": "python",
   "nbconvert_exporter": "python",
   "pygments_lexer": "ipython3",
   "version": "3.8.13"
  }
 },
 "nbformat": 4,
 "nbformat_minor": 0
}
