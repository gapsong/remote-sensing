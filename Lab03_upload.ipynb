{
 "cells": [
  {
   "cell_type": "markdown",
   "metadata": {
    "id": "B9BQYP--mkSu"
   },
   "source": [
    "# Mathematical Morphology Operators\n",
    "\n",
    "Goal of the lecture:\n",
    "1. Understand & apply the basic morphological operators:\n",
    "    - Erosion\n",
    "    - Dilation\n",
    "    - Opening\n",
    "    - Closing\n",
    "1. Apply the operators to _real_ data.\n",
    "\n",
    "\n",
    "Morphological transformations are simple operations based on the image shape.\n",
    "They are usually used in digital image processing (e.g, in object recognition, and image segmentation tasks) in order for noise reduction, edge enhancement, and eliminating everything but the object of interest. \n",
    "\n",
    "Morphological operators need two inputs: \n",
    "1. The original image\n",
    "2. A structuring element (SE/kernel)\n",
    "\n",
    "In this lecture we study the basic morphological operators:\n",
    "- Erosion\n",
    "- Dilation\n",
    "\n",
    "With their variants Opening and Closing.\n",
    "\n",
    "| ![alt text](https://docs.opencv.org/trunk/j.png) | ![alt text](https://docs.opencv.org/trunk/erosion.png) | ![alt text](https://docs.opencv.org/trunk/dilation.png) |\n",
    "| :---: | :---: | :---: |\n",
    "| original image | erotion | dilation |\n",
    "\n",
    "Example images of opening and closing:\n",
    "\n",
    "|![alt text](https://docs.opencv.org/trunk/opening.png) |![alt text](https://docs.opencv.org/trunk/closing.png) |\n",
    "| :---: | :---: |\n",
    "| opening | closing |\n",
    "\n",
    "\n",
    "*Images taken from [OpenCV](https://opencv.org) docs*\n",
    "\n",
    "Useful Links:\n",
    "\n",
    "* http://homepages.inf.ed.ac.uk/rbf/HIPR2/morops.htm\n",
    "* https://en.wikipedia.org/wiki/Erosion_%28morphology%29"
   ]
  },
  {
   "cell_type": "code",
   "execution_count": null,
   "metadata": {},
   "outputs": [],
   "source": [
    "# importing libraries and defining _smart_ imshow function\n",
    "import numpy as np\n",
    "from scipy import ndimage\n",
    "import matplotlib.pyplot as plt\n",
    "\n",
    "\n",
    "def imshow(*args, **kwargs):\n",
    "    # force cmap to be gray\n",
    "    kwargs[\"cmap\"] = \"gray\"\n",
    "    # Force range to be 8-bit range\n",
    "    kwargs[\"vmin\"] = 0\n",
    "    kwargs[\"vmax\"] = 255\n",
    "    plt.imshow(*args, **kwargs)\n",
    "    plt.axis(\"off\")"
   ]
  },
  {
   "cell_type": "markdown",
   "metadata": {
    "id": "6gei7be7AV-H"
   },
   "source": [
    "## Erosion\n",
    "\n",
    "The erosion operator decays the boundaries of the foreground object, by replacing every pixel by the *minimum* value computed over the neighborhood defined by the structuring element (SE). As a result:\n",
    "* Features that are **darker** than their immediate surroundings are **enlarged** \n",
    "* Features that are **brighter** than their immediate surroundings are **shrinked**\n",
    "\n",
    "![](https://upload.wikimedia.org/wikipedia/commons/b/b9/Grayscale_Morphological_Erosion.gif)\n",
    "\n",
    "**Image from [Greg Insana](https://commons.wikimedia.org/w/index.php?title=User:Greg2020&action=edit&redlink=1) shared via [wikimedia](https://commons.wikimedia.org/wiki/File:Grayscale_Morphological_Erosion.gif).**\n",
    "\n",
    "### Structuring Element\n",
    "\n",
    "As we mentioned earlier morphological operators need two inputs, first the original image and the Structuring Element (kernel).\n",
    "In `SciPy` we define a structuring element by creating an array where non-zero elements define the region of the structuring element."
   ]
  },
  {
   "cell_type": "code",
   "execution_count": null,
   "metadata": {},
   "outputs": [],
   "source": [
    "kernel_rect = np.ones((3, 3))\n",
    "kernel_rect"
   ]
  },
  {
   "cell_type": "markdown",
   "metadata": {},
   "source": [
    "### Example Erosion\n",
    "\n",
    "In the following we will apply the erosion operation to an example array:"
   ]
  },
  {
   "cell_type": "code",
   "execution_count": null,
   "metadata": {},
   "outputs": [],
   "source": [
    "a = np.zeros((15, 15), dtype=np.uint8)\n",
    "a[:, 3:6] = 120\n",
    "a[:, 6:9] = 255\n",
    "a[:, 9:12] = 120\n",
    "\n",
    "print(a)"
   ]
  },
  {
   "cell_type": "markdown",
   "metadata": {},
   "source": [
    "Before applying the erosion operations, how to you expect the output array to look like?\n",
    "What will the resulting image look like?\n",
    "\n",
    "Remember, the kernel is a 3 x 3 fully connected kernel."
   ]
  },
  {
   "cell_type": "code",
   "execution_count": null,
   "metadata": {},
   "outputs": [],
   "source": [
    "# Before applying erosion\n",
    "imshow(a)"
   ]
  },
  {
   "cell_type": "code",
   "execution_count": null,
   "metadata": {},
   "outputs": [],
   "source": [
    "e = ndimage.grey_erosion(a, footprint=kernel_rect)\n",
    "print(e)\n",
    "imshow(e)"
   ]
  },
  {
   "cell_type": "markdown",
   "metadata": {},
   "source": [
    "### In-course practice\n",
    "\n",
    "Create a new 3 x 3 kernel where the corners are _not_ part of the structuring element."
   ]
  },
  {
   "cell_type": "code",
   "execution_count": null,
   "metadata": {},
   "outputs": [],
   "source": [
    "no_corner_inp = np.ones((15, 15)) * 255\n",
    "no_corner_inp[::2, ::2] = 0\n",
    "imshow(no_corner_inp)"
   ]
  },
  {
   "cell_type": "code",
   "execution_count": null,
   "metadata": {},
   "outputs": [],
   "source": []
  },
  {
   "cell_type": "markdown",
   "metadata": {
    "id": "S6r1_rzZTne3"
   },
   "source": [
    "## Dilation\n",
    "\n",
    "The dilation operator is the opposite of erosion, increasing the brighter boundries, by replacing every pixel by the *maximum* value computed over the neighborhood defined by the SE. As a result:\n",
    "* Features that are **brighter** than their immediate surroundings are **enlarged** \n",
    "* Features that are **darker** than their immediate surroundings are **shrinked**\n",
    "\n",
    "### Example Dilation"
   ]
  },
  {
   "cell_type": "code",
   "execution_count": null,
   "metadata": {},
   "outputs": [],
   "source": [
    "# same array as in first example:\n",
    "a = np.zeros((15, 15), dtype=np.uint8)\n",
    "a[:, 3:6] = 120\n",
    "a[:, 6:9] = 255\n",
    "a[:, 9:12] = 120\n",
    "imshow(a)"
   ]
  },
  {
   "cell_type": "code",
   "execution_count": null,
   "metadata": {},
   "outputs": [],
   "source": [
    "d = ndimage.grey_dilation(a, footprint=kernel_rect)\n",
    "imshow(d)"
   ]
  },
  {
   "cell_type": "markdown",
   "metadata": {},
   "source": [
    "### In-course practice\n",
    "\n",
    "Create an array that produces a white image if the dilation operation is applied with the `rect_kernel`.\n",
    "\n",
    "Do not create an input array that only contains the value 255!"
   ]
  },
  {
   "cell_type": "code",
   "execution_count": null,
   "metadata": {},
   "outputs": [],
   "source": []
  },
  {
   "cell_type": "code",
   "execution_count": null,
   "metadata": {},
   "outputs": [],
   "source": [
    "w = ndimage.grey_dilation(make_white_inp, footprint=kernel_rect)\n",
    "imshow(w)"
   ]
  },
  {
   "cell_type": "markdown",
   "metadata": {},
   "source": [
    "## Opening\n",
    "\n",
    "Opening is just another name for erosion followed by dilation using the same SE. Generally used to remove small light details and/or noise removal.\n",
    "\n",
    "* The initial erosion removes the small details, but it also darkens the image\n",
    "* The dilation again increases the overall image intensity without reintroducing the details removed by the erosion\n",
    "\n",
    "|![alt text](https://docs.opencv.org/trunk/opening.png) |\n",
    "| :---: |\n",
    "| opening |"
   ]
  },
  {
   "cell_type": "code",
   "execution_count": null,
   "metadata": {},
   "outputs": [],
   "source": [
    "opening_inp = a.copy()\n",
    "for idx_x, idx_y in [(0, 0), (-1, -1), (5, 5), (-5, -5)]:\n",
    "    opening_inp[idx_x, idx_y] = 255\n",
    "imshow(opening_inp)"
   ]
  },
  {
   "cell_type": "code",
   "execution_count": null,
   "metadata": {},
   "outputs": [],
   "source": [
    "opening_inp_eroded = ndimage.grey_erosion(opening_inp, footprint=kernel_rect)\n",
    "imshow(opening_inp_eroded)"
   ]
  },
  {
   "cell_type": "code",
   "execution_count": null,
   "metadata": {},
   "outputs": [],
   "source": [
    "opening_output = ndimage.grey_dilation(opening_inp_eroded, footprint=kernel_rect)\n",
    "imshow(opening_output)"
   ]
  },
  {
   "cell_type": "code",
   "execution_count": null,
   "metadata": {},
   "outputs": [],
   "source": [
    "# Or directly call the `grey_opening` directly\n",
    "# imshow(ndimage.grey_opening(opening_inp, footprint=kernel_rect))"
   ]
  },
  {
   "cell_type": "markdown",
   "metadata": {
    "id": "M8sCeb7_pfcJ"
   },
   "source": [
    "## Closing\n",
    "\n",
    "Closing is just another name for dilation followed by erosion. Generally used to remove dark details, while leaving bright features relatively undisturbed \n",
    "\n",
    "* The initial dilation removes the dark details and brightens the image\n",
    "* The erosion darkens the image without reintroducing the details removed by dilation\n",
    "\n",
    "\n",
    "|![](https://docs.opencv.org/trunk/closing.png) |\n",
    "| :---: |\n",
    "| closing |"
   ]
  },
  {
   "cell_type": "code",
   "execution_count": null,
   "metadata": {},
   "outputs": [],
   "source": [
    "closing_inp = a.copy()\n",
    "for idx_x, idx_y in [(5, -5), (-5, 5), (5, 5), (-5, -5)]:\n",
    "    closing_inp[idx_x, idx_y] = 0\n",
    "imshow(closing_inp)"
   ]
  },
  {
   "cell_type": "code",
   "execution_count": null,
   "metadata": {},
   "outputs": [],
   "source": [
    "closing_inp_dilated = ndimage.grey_dilation(closing_inp, footprint=kernel_rect)\n",
    "imshow(closing_inp_dilated)"
   ]
  },
  {
   "cell_type": "code",
   "execution_count": null,
   "metadata": {},
   "outputs": [],
   "source": [
    "closing_out = ndimage.grey_erosion(closing_inp_dilated, footprint=kernel_rect)\n",
    "imshow(closing_out)"
   ]
  },
  {
   "cell_type": "code",
   "execution_count": null,
   "metadata": {},
   "outputs": [],
   "source": [
    "from simple_downloader import download\n",
    "\n",
    "# downlaod the sub-image from the previous lecture\n",
    "# we have stored the bands individually to give them a meaningful name\n",
    "file_path = download(\n",
    "    \"https://tubcloud.tu-berlin.de/s/i2n2wxEqkPWWYZi/download/sub_rgb_arr.npz\", target_dir=\"data\"\n",
    ")\n",
    "npzfile = np.load(file_path)\n",
    "red_arr = npzfile[\"red\"]"
   ]
  },
  {
   "cell_type": "code",
   "execution_count": null,
   "metadata": {},
   "outputs": [],
   "source": [
    "# use the code and formulae from previous Lab\n",
    "red_float = (red_arr + 1_000) / 10_000\n",
    "red_float = np.clip(red_float, 0.0, 1.0)\n",
    "red_img = np.uint8(red_float * 255)\n",
    "red_img"
   ]
  },
  {
   "cell_type": "code",
   "execution_count": null,
   "metadata": {},
   "outputs": [],
   "source": [
    "imshow(red_img)"
   ]
  },
  {
   "cell_type": "code",
   "execution_count": null,
   "metadata": {},
   "outputs": [],
   "source": [
    "# kernel-size; iterations\n",
    "# img = red_img[150:350, -200:].copy()\n",
    "img = red_img[50:150, 150:250]\n",
    "imshow(img)"
   ]
  },
  {
   "cell_type": "code",
   "execution_count": null,
   "metadata": {},
   "outputs": [],
   "source": [
    "kernel_rect = np.ones((3, 3))\n",
    "\n",
    "i = img.copy()\n",
    "for _ in range(3):\n",
    "    i = ndimage.grey_erosion(i, footprint=kernel_rect)\n",
    "imshow(i)"
   ]
  },
  {
   "cell_type": "markdown",
   "metadata": {},
   "source": [
    "## In-course practice\n",
    "\n",
    "Investigate the effect of changes to the SE shape, size, number of iterations, and morphological operators."
   ]
  },
  {
   "cell_type": "code",
   "execution_count": null,
   "metadata": {},
   "outputs": [],
   "source": []
  }
 ],
 "metadata": {
  "colab": {
   "authorship_tag": "ABX9TyMcIaFpMIiQL3Fx46uQpHLF",
   "name": "Lab4.ipynb",
   "provenance": [],
   "toc_visible": true
  },
  "interpreter": {
   "hash": "d950cc255805eca97bc9adaef38440cdd4d88c80fff2afb10853f0ffb81a073c"
  },
  "kernelspec": {
   "display_name": "ip4rs",
   "language": "python",
   "name": "ip4rs"
  },
  "language_info": {
   "codemirror_mode": {
    "name": "ipython",
    "version": 3
   },
   "file_extension": ".py",
   "mimetype": "text/x-python",
   "name": "python",
   "nbconvert_exporter": "python",
   "pygments_lexer": "ipython3",
   "version": "3.8.13"
  }
 },
 "nbformat": 4,
 "nbformat_minor": 4
}
